{
 "cells": [
  {
   "cell_type": "markdown",
   "metadata": {},
   "source": [
    "# 1. Testing divisor sum"
   ]
  },
  {
   "cell_type": "code",
   "execution_count": null,
   "metadata": {},
   "outputs": [],
   "source": [
    "def f(x):\n",
    "    a=0\n",
    "    for i in range(1,x):\n",
    "        if x%i==0:\n",
    "            a+=i\n",
    "    return a\n",
    "f(6)"
   ]
  },
  {
   "cell_type": "markdown",
   "metadata": {},
   "source": [
    "# 2. Find perfect numbers"
   ]
  },
  {
   "cell_type": "code",
   "execution_count": null,
   "metadata": {},
   "outputs": [],
   "source": [
    "A=[]\n",
    "for j in range(1,100000):\n",
    "    if f(j)==j:\n",
    "        A.append(j)\n",
    "print(A)"
   ]
  },
  {
   "cell_type": "markdown",
   "metadata": {},
   "source": [
    "# 3. 주사위 5번 던져서 눈의 수 합이 15인 경우의 수 구하기"
   ]
  },
  {
   "cell_type": "code",
   "execution_count": null,
   "metadata": {},
   "outputs": [],
   "source": [
    "import itertools as it\n",
    "A=[1,2,3,4,5,6]\n",
    "P=list(it.product(A, repeat=5))\n",
    "c=0\n",
    "for i in P:\n",
    "    if sum(i)==15:\n",
    "        c+=1\n",
    "print(c)"
   ]
  },
  {
   "cell_type": "markdown",
   "metadata": {},
   "source": [
    "# 4. 3 일반화"
   ]
  },
  {
   "cell_type": "code",
   "execution_count": 6,
   "metadata": {},
   "outputs": [
    {
     "name": "stdout",
     "output_type": "stream",
     "text": [
      "sum? 5\n",
      "repeat times? 3\n",
      "We have 6 instances of getting the sum of 5.\n"
     ]
    }
   ],
   "source": [
    "import itertools as it\n",
    "A=[1,2,3,4,5,6]\n",
    "N=int(input('sum? '))\n",
    "R=int(input('repeat times? '))\n",
    "P=list(it.product(A, repeat=R))\n",
    "c=0\n",
    "for i in P:\n",
    "    if sum(i)==N:\n",
    "        c+=1\n",
    "print('We have {} instances of getting the sum of {}.'.format(c,N))"
   ]
  }
 ],
 "metadata": {
  "kernelspec": {
   "display_name": "Python 3",
   "language": "python",
   "name": "python3"
  },
  "language_info": {
   "codemirror_mode": {
    "name": "ipython",
    "version": 3
   },
   "file_extension": ".py",
   "mimetype": "text/x-python",
   "name": "python",
   "nbconvert_exporter": "python",
   "pygments_lexer": "ipython3",
   "version": "3.8.8"
  }
 },
 "nbformat": 4,
 "nbformat_minor": 4
}
