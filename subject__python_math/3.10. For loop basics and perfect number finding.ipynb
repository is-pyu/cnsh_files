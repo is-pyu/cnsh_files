{
 "cells": [
  {
   "cell_type": "markdown",
   "metadata": {},
   "source": [
    "# 0. for문 basics + α"
   ]
  },
  {
   "cell_type": "code",
   "execution_count": null,
   "metadata": {},
   "outputs": [],
   "source": [
    "for i in range(1,6):\n",
    "    print(i)"
   ]
  },
  {
   "cell_type": "code",
   "execution_count": null,
   "metadata": {},
   "outputs": [],
   "source": [
    "A=[]\n",
    "for i in range(1,6):\n",
    "    if 6%i==0:\n",
    "        A.append(i)\n",
    "print(A)"
   ]
  },
  {
   "cell_type": "code",
   "execution_count": null,
   "metadata": {},
   "outputs": [],
   "source": [
    "A=[]\n",
    "for i in range(1,6):\n",
    "    if 6%i==0:\n",
    "        A.append(i)\n",
    "sum=0\n",
    "for i in range(0,len(A)):\n",
    "    sum+=A[i]\n",
    "print(sum)"
   ]
  },
  {
   "cell_type": "markdown",
   "metadata": {},
   "source": [
    "# 1. 완전수 찾기"
   ]
  },
  {
   "cell_type": "code",
   "execution_count": null,
   "metadata": {
    "scrolled": false
   },
   "outputs": [],
   "source": [
    "## 완전수 찾기 ##\n",
    "print(\"we find perfect number\\n\")\n",
    "div=0 # 약수\n",
    "for n in range(1,10001):\n",
    "    for k in range(1,n):\n",
    "        if n%k==0:\n",
    "            div+=k;\n",
    "    if div==n:\n",
    "        print(n)\n",
    "    div=0"
   ]
  },
  {
   "cell_type": "markdown",
   "metadata": {},
   "source": [
    "# 2. 부족수 찾기"
   ]
  },
  {
   "cell_type": "code",
   "execution_count": null,
   "metadata": {
    "scrolled": false
   },
   "outputs": [],
   "source": [
    "## 부족수 찾기 ##\n",
    "print(\"we find deficient number\\n\")\n",
    "div=0\n",
    "for n in range(1,10001):\n",
    "    for k in range(1,n):\n",
    "        if n%k==0:\n",
    "            div+=k;\n",
    "    if div<n:\n",
    "        print(n)\n",
    "    div=0"
   ]
  },
  {
   "cell_type": "markdown",
   "metadata": {},
   "source": [
    "# 3. 과잉수 찾기\n"
   ]
  },
  {
   "cell_type": "code",
   "execution_count": null,
   "metadata": {
    "scrolled": false
   },
   "outputs": [],
   "source": [
    "## 과잉수 찾기 ##\n",
    "print(\"we find abundant number\\n\")\n",
    "div=0\n",
    "for n in range(1,10001):\n",
    "    for k in range(1,n):\n",
    "        if n%k==0:\n",
    "            div+=k;\n",
    "    if div>n:\n",
    "        print(n)\n",
    "    div=0"
   ]
  }
 ],
 "metadata": {
  "kernelspec": {
   "display_name": "Python 3",
   "language": "python",
   "name": "python3"
  },
  "language_info": {
   "codemirror_mode": {
    "name": "ipython",
    "version": 3
   },
   "file_extension": ".py",
   "mimetype": "text/x-python",
   "name": "python",
   "nbconvert_exporter": "python",
   "pygments_lexer": "ipython3",
   "version": "3.8.8"
  }
 },
 "nbformat": 4,
 "nbformat_minor": 4
}
