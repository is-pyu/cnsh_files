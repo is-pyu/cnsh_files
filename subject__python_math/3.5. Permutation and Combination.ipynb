{
 "cells": [
  {
   "cell_type": "code",
   "execution_count": 6,
   "metadata": {},
   "outputs": [],
   "source": [
    "import itertools as it\n",
    "# 순열 nPr permutations\n",
    "# 중복순열 nΠr product\n",
    " # example: n=len(A), nΠ5 -> it.product(A, A, A, A, A)\n",
    "# 조합 nCr combinations\n",
    "# 중복조합 nHr combinations_with_replacement\n",
    "# (x, y): x=집합, y=개수"
   ]
  },
  {
   "cell_type": "code",
   "execution_count": 3,
   "metadata": {},
   "outputs": [
    {
     "name": "stdout",
     "output_type": "stream",
     "text": [
      "[(1, 2), (1, 3), (1, 4), (1, 5), (2, 1), (2, 3), (2, 4), (2, 5), (3, 1), (3, 2), (3, 4), (3, 5), (4, 1), (4, 2), (4, 3), (4, 5), (5, 1), (5, 2), (5, 3), (5, 4)]\n",
      "[(1, 2), (1, 3), (1, 4), (1, 5), (2, 3), (2, 4), (2, 5), (3, 4), (3, 5), (4, 5)]\n"
     ]
    },
    {
     "data": {
      "text/plain": [
       "10"
      ]
     },
     "execution_count": 3,
     "metadata": {},
     "output_type": "execute_result"
    }
   ],
   "source": [
    "a = [1, 2, 3, 4, 5]\n",
    "nPr = list(it.permutations(a, 2))\n",
    "nCr = list(it.combinations(a, 2))\n",
    "print(nPr)\n",
    "print(nCr)\n",
    "len(nCr)"
   ]
  },
  {
   "cell_type": "code",
   "execution_count": 4,
   "metadata": {},
   "outputs": [
    {
     "name": "stdout",
     "output_type": "stream",
     "text": [
      "[(1,)]\n",
      "[]\n",
      "[]\n",
      "[]\n",
      "[(1,), (2,)]\n",
      "[(1, 2)]\n",
      "[]\n",
      "[]\n",
      "[(1,), (2,), (3,)]\n",
      "[(1, 2), (1, 3), (2, 3)]\n",
      "[(1, 2, 3)]\n",
      "[]\n",
      "[(1,), (2,), (3,), (4,)]\n",
      "[(1, 2), (1, 3), (1, 4), (2, 3), (2, 4), (3, 4)]\n",
      "[(1, 2, 3), (1, 2, 4), (1, 3, 4), (2, 3, 4)]\n",
      "[(1, 2, 3, 4)]\n"
     ]
    }
   ],
   "source": [
    "n=0\n",
    "na=[]\n",
    "r=0\n",
    "for n in range(1,5):\n",
    "    na.append(n)\n",
    "    for r in range(1,5):\n",
    "        nCr = it.combinations(na,r)\n",
    "        print(list(nCr))"
   ]
  },
  {
   "cell_type": "code",
   "execution_count": null,
   "metadata": {},
   "outputs": [],
   "source": []
  }
 ],
 "metadata": {
  "kernelspec": {
   "display_name": "Python 3",
   "language": "python",
   "name": "python3"
  },
  "language_info": {
   "codemirror_mode": {
    "name": "ipython",
    "version": 3
   },
   "file_extension": ".py",
   "mimetype": "text/x-python",
   "name": "python",
   "nbconvert_exporter": "python",
   "pygments_lexer": "ipython3",
   "version": "3.8.8"
  }
 },
 "nbformat": 4,
 "nbformat_minor": 4
}
